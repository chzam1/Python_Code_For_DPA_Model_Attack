{
 "cells": [
  {
   "cell_type": "code",
   "execution_count": 1,
   "metadata": {
    "id": "yhtbacPEZH_q"
   },
   "outputs": [],
   "source": [
    "import numpy as np\n",
    "import matplotlib.pyplot as plt"
   ]
  },
  {
   "cell_type": "code",
   "execution_count": 2,
   "metadata": {
    "id": "cJH4i_2Tu4L_"
   },
   "outputs": [
    {
     "name": "stdout",
     "output_type": "stream",
     "text": [
      "Total letter count is  19962\n"
     ]
    }
   ],
   "source": [
    "#Importing the txt file for the project\n",
    "text = []\n",
    "with open(r'C:\\Users\\Zamani\\Downloads\\ATT00001.txt') as f:\n",
    "    text = f.read()\n",
    "count = 0\n",
    "for i in text:\n",
    "    count += 1\n",
    "#print (text)    \n",
    "print('Total letter count is ', count)"
   ]
  },
  {
   "cell_type": "code",
   "execution_count": 3,
   "metadata": {
    "id": "HDv8C5JUu5so"
   },
   "outputs": [],
   "source": [
    "punctuations = [\"1\",\"2\",\"3\",\"4\",\"5\",\"6\",\"7\",\"8\",\"9\",\"0\",\"!\",\",\",\"`\", \"~\",\"!\", \"@\", \"#\", \"$\", \"%\", \"^\", \"&\", \"*\", \"(\", \")\", \"_\", \"-\", \"=\", \"+\", \"'\", \":\", \";\", \".\", \"/\", \"<\", \">\", \"?\", \"[\", \"]\", \"{\", \"}\", \"é\"]"
   ]
  },
  {
   "cell_type": "code",
   "execution_count": 4,
   "metadata": {
    "id": "XA1SxwGTvCFE"
   },
   "outputs": [],
   "source": [
    "punct=set(punctuations)\n",
    "stop_words = [\"efwjjrysbjf\"]"
   ]
  },
  {
   "cell_type": "code",
   "execution_count": 5,
   "metadata": {
    "id": "qZep19bLvDkF"
   },
   "outputs": [],
   "source": [
    "def RemovePunctuation(token):\n",
    "  for p in punctuations:\n",
    "    token = token.replace(p, '')\n",
    "    return token\n",
    "\n",
    "def letters_only(astr):\n",
    "  return astr.isalpha()"
   ]
  },
  {
   "cell_type": "code",
   "execution_count": 6,
   "metadata": {
    "id": "i3HK2sCBvIo0"
   },
   "outputs": [],
   "source": [
    "#new_document = []\n",
    "document = open(\"ATT00001.txt\", \"r\", errors='ignore')\n",
    "raw_document = document.read(-1)"
   ]
  },
  {
   "cell_type": "code",
   "execution_count": 7,
   "metadata": {
    "colab": {
     "base_uri": "https://localhost:8080/",
     "height": 122
    },
    "executionInfo": {
     "elapsed": 6,
     "status": "ok",
     "timestamp": 1652321337251,
     "user": {
      "displayName": "Emmanuel Masa-Ibi",
      "userId": "16867924233760379801"
     },
     "user_tz": 240
    },
    "id": "2zHUwAdSv70e",
    "outputId": "9fce9786-aa98-4d45-c747-730557605ff1"
   },
   "outputs": [],
   "source": [
    "#raw_document"
   ]
  },
  {
   "cell_type": "code",
   "execution_count": 8,
   "metadata": {
    "id": "-qX6MhpNvPfH"
   },
   "outputs": [],
   "source": [
    "#Text editing to remove all unwanted characters\n",
    "txtf = ' '.join([word for word in raw_document.split() if word not in stop_words])\n",
    "\n",
    "txt = txtf.lower()\n",
    "\n",
    "# raw_document.split()"
   ]
  },
  {
   "cell_type": "code",
   "execution_count": 9,
   "metadata": {
    "colab": {
     "base_uri": "https://localhost:8080/"
    },
    "executionInfo": {
     "elapsed": 2,
     "status": "ok",
     "timestamp": 1652321338671,
     "user": {
      "displayName": "Emmanuel Masa-Ibi",
      "userId": "16867924233760379801"
     },
     "user_tz": 240
    },
    "id": "h5Y1CgEhvbC0",
    "outputId": "973c47c1-271e-4d9e-bf20-6808a3e18377"
   },
   "outputs": [],
   "source": [
    "punct = set(punctuations) \n",
    "textp = ''.join([ch for ch in txt if ch not in punct])\n",
    "#print(textp)"
   ]
  },
  {
   "cell_type": "code",
   "execution_count": 10,
   "metadata": {
    "colab": {
     "base_uri": "https://localhost:8080/"
    },
    "executionInfo": {
     "elapsed": 3,
     "status": "ok",
     "timestamp": 1652321339558,
     "user": {
      "displayName": "Emmanuel Masa-Ibi",
      "userId": "16867924233760379801"
     },
     "user_tz": 240
    },
    "id": "aBJn9jvy2QIU",
    "outputId": "d89dd58a-1b19-4701-b45e-e0315c654eb3"
   },
   "outputs": [
    {
     "data": {
      "text/plain": [
       "17340"
      ]
     },
     "execution_count": 10,
     "metadata": {},
     "output_type": "execute_result"
    }
   ],
   "source": [
    "len(textp)"
   ]
  },
  {
   "cell_type": "code",
   "execution_count": 11,
   "metadata": {
    "id": "KhmNiTN0vmdv"
   },
   "outputs": [
    {
     "name": "stdout",
     "output_type": "stream",
     "text": [
      "[0, 0, 1]\n"
     ]
    }
   ],
   "source": [
    "N = 3\n",
    "M = 27\n",
    "matrix = np.random.rand(N,N)\n",
    "transition = matrix/matrix.sum(axis=1)[:,None]  \n",
    "#transition\n",
    "init_probs = [0, 0, 1]\n",
    "print(init_probs)"
   ]
  },
  {
   "cell_type": "code",
   "execution_count": 12,
   "metadata": {
    "id": "1Eo5IXgZ9XIe"
   },
   "outputs": [],
   "source": [
    "matrixE = np.random.rand(N,M)\n",
    "emission = matrixE/matrixE.sum(axis=1)[:,None]\n",
    "#emission"
   ]
  },
  {
   "cell_type": "code",
   "execution_count": 13,
   "metadata": {
    "id": "o4T7N_qZbpOf"
   },
   "outputs": [],
   "source": [
    "#defining states and sequence symbols\n",
    "states = ['H', 'C', 'T']\n",
    "states_dic = {'H':0, 'C':1}\n",
    "sequence = ['a','b','c', 'd', 'e', 'f', 'g', 'h', 'i', 'j', 'k', 'l', 'm', 'n', 'o', 'p', 'q', 'r', 's', 't', 'u', 'v', 'w', 'x', 'y', 'z', ' ']\n",
    "\n",
    "# sequence = (list(set(textp))).sort() #[' ','a','b','c', 'd', 'e', 'f', 'g', 'h', 'i', 'j', 'k', 'l', 'm', 'n', 'o', 'p', 'q', 'r', 's', 't', 'u', 'v', 'w', 'x', 'y', 'z']\n",
    "#sequence = sequencee.sort()\n",
    "sequence_syms = {'a':0,'b':1,'c':2, 'd':3, 'e':4, 'f':5, 'g':6, 'h':7, 'i':8, 'j':9, 'k':10, 'l':11, 'm':12, 'n':13, \n",
    "                 'o':14, 'p':15, 'q':16, 'r':17, 's':18, 't':19, 'u':20, 'v':21, 'w':22, 'x':23, 'y':24, 'z':25, ' ':26}\n",
    "# len(sequence_syms)"
   ]
  },
  {
   "cell_type": "code",
   "execution_count": 14,
   "metadata": {
    "id": "0GGSvaLLbtxm"
   },
   "outputs": [],
   "source": [
    "#test sequence\n",
    "test_sequence = textp\n",
    "test_sequence = [x for x in test_sequence]\n",
    "# test_sequence"
   ]
  },
  {
   "cell_type": "code",
   "execution_count": 15,
   "metadata": {
    "id": "IftubB0WXmC_"
   },
   "outputs": [],
   "source": [
    "#probabilities of going to end state\n",
    "end_probs = transition[-1] #[0.6, 0.3, 0.1]\n",
    "#probabilities of going from start state\n",
    "start_probs = transition[0] # [0.4, 0.3, 0.3]"
   ]
  },
  {
   "cell_type": "code",
   "execution_count": 16,
   "metadata": {
    "id": "SoGstKM-YBKL"
   },
   "outputs": [],
   "source": [
    "#function to find forward probabilities\n",
    "def forward_probs():\n",
    "    # node values stored during forward algorithm\n",
    "    rndmatF = np.random.rand(N, len(test_sequence))\n",
    "    node_values_fwd = rndmatF/rndmatF.sum(axis=1)[:, None]  \n",
    "    #node_values_fwd np.zeros((len(states), len(test_sequence)))\n",
    "    \n",
    "    for i, sequence_val in enumerate(test_sequence):\n",
    "        for j in range(len(states)):\n",
    "            # if first sequence value then do this\n",
    "            if (i == 0):\n",
    "                node_values_fwd[j, i] = init_probs[j] * emission[j, sequence_syms[sequence_val]]\n",
    "            # else perform this\n",
    "            else:\n",
    "                values = [node_values_fwd[k, i - 1] * emission[j, sequence_syms[sequence_val]] * transition[k, j] for k in\n",
    "                          range(len(states))]\n",
    "                node_values_fwd[j, i] = sum(values)\n",
    "                #print( values)\n",
    "    #end state value\n",
    "    end_state = np.multiply(node_values_fwd[:, 0], end_probs)\n",
    "    # end_state = np.multiply(node_values_fwd[:, -1], end_probs)\n",
    "    end_state_val = sum(end_state)\n",
    "    return node_values_fwd, end_state_val\n",
    "    \n",
    "   # print(node_values_fwd)\n",
    "    #alpha = forward_probs()\n",
    "    #print(alpha )"
   ]
  },
  {
   "cell_type": "code",
   "execution_count": 17,
   "metadata": {
    "id": "gyzAbKMfYmR7"
   },
   "outputs": [],
   "source": [
    "#function to find backward probabilities\n",
    "def backward_probs():\n",
    "    # node values stored during forward algorithm\n",
    "    rndmatB = np.random.rand(N, len(test_sequence))\n",
    "    node_values_bwd = rndmatB/rndmatB.sum(axis=1)[:, None]\n",
    "    #node_values_bwd = np.zeros((len(states), len(test_sequence)))\n",
    "\n",
    "    #for i, sequence_val in enumerate(test_sequence):\n",
    "    for i in range(1,len(test_sequence)+1):\n",
    "        for j in range(len(states)):\n",
    "            # if first sequence value then do this\n",
    "            if (-i == -1):\n",
    "                node_values_bwd[j, -i] = end_probs[j]\n",
    "            # else perform this\n",
    "            else:\n",
    "                values = [node_values_bwd[k, -i+1] * emission[k, sequence_syms[test_sequence[-i+1]]] * transition[j, k] for k in range(len(states))]\n",
    "                node_values_bwd[j, -i] = sum(values)\n",
    "\n",
    "    #start state value\n",
    "    start_state = [node_values_bwd[m, -1] * emission[m, sequence_syms[test_sequence[0]]] for m in range(len(states))]\n",
    "    # start_state = [node_values_bwd[m, 0] * emission[m, sequence_syms[test_sequence[0]]] for m in range(len(states))]\n",
    "    start_state = np.multiply(start_state, start_probs)\n",
    "    start_state_val = sum(start_state)\n",
    "    return node_values_bwd, start_state_val\n",
    "\n",
    "    #beta = backward_probs()\n",
    "\n"
   ]
  },
  {
   "cell_type": "code",
   "execution_count": 18,
   "metadata": {
    "id": "fAIv-CA0YqaT"
   },
   "outputs": [],
   "source": [
    "#function to find si probabilities\n",
    "def si_probs(forward, backward, forward_val):\n",
    "    rndmatS = np.random.rand(N, len(test_sequence) - 1, N)\n",
    "    si_probabilities = rndmatS/rndmatS.sum(axis=1)[:, None]\n",
    "    # si_probabilities = np.zeros((len(states), len(test_sequence)-1, len(states)))\n",
    "\n",
    "    for i in range(len(test_sequence)-1):\n",
    "        for j in range(len(states)):\n",
    "            for k in range(len(states)):\n",
    "                si_probabilities[j,i,k] = si_probabilities[j, i, k] + ((forward[j,i] * backward[k,i+1] * transition[j,k] * emission[k,sequence_syms[test_sequence[i+1]]] ) / forward_val)\n",
    "                # si_probabilities[j,i,k] = ( forward[j,i] * backward[k,i+1] * transition[j,k] * emission[k,sequence_syms[test_sequence[i+1]]] ) \\\n",
    "                #                                     / forward_val                                    \n",
    "    return si_probabilities"
   ]
  },
  {
   "cell_type": "code",
   "execution_count": 19,
   "metadata": {
    "id": "gAlRw7sSYv-F"
   },
   "outputs": [],
   "source": [
    "#function to find gamma probabilities\n",
    "def gamma_probs(forward, backward, forward_val):\n",
    "\n",
    "    rndmatG = np.random.rand(N, len(test_sequence))\n",
    "    gamma_probabilities = rndmatG/rndmatG.sum(axis=1)[:, None]\n",
    "    # gamma_probabilities = np.zeros((len(states), len(test_sequence)))\n",
    "\n",
    "    for i in range(len(test_sequence)):\n",
    "        for j in range(len(states)):\n",
    "            #gamma_probabilities[j,i] = ( forward[j,i] * backward[j,i] * emission[j,sequence_syms[test_sequence[i]]] ) / forward_val\n",
    "            gamma_probabilities[j, i] = gamma_probabilities[j, i] + ((forward[j, i] * backward[j, i]) / forward_val)\n",
    "\n",
    "    return gamma_probabilities\n"
   ]
  },
  {
   "cell_type": "code",
   "execution_count": 20,
   "metadata": {
    "colab": {
     "base_uri": "https://localhost:8080/"
    },
    "executionInfo": {
     "elapsed": 13722,
     "status": "ok",
     "timestamp": 1652328391317,
     "user": {
      "displayName": "Emmanuel Masa-Ibi",
      "userId": "16867924233760379801"
     },
     "user_tz": 240
    },
    "id": "liWd8mHqYgrs",
    "outputId": "3199ff93-d65a-40ac-ff50-a0eb2f184179"
   },
   "outputs": [
    {
     "name": "stdout",
     "output_type": "stream",
     "text": [
      "\n",
      "Matrix bjk:\n",
      "\n",
      "[[0.0657 0.0131 0.0304 0.0311 0.1081 0.0154 0.014  0.0442 0.0556 0.0018\n",
      "  0.0051 0.036  0.024  0.0508 0.0615 0.0177 0.0006 0.0555 0.0585 0.0727\n",
      "  0.0236 0.0081 0.0148 0.0025 0.0173 0.0006 0.1712]\n",
      " [0.0652 0.0145 0.0317 0.0309 0.1107 0.0144 0.014  0.0449 0.0556 0.0018\n",
      "  0.0046 0.036  0.0243 0.0517 0.0614 0.0184 0.0007 0.053  0.0577 0.0721\n",
      "  0.0246 0.0085 0.0151 0.002  0.0176 0.0006 0.1682]\n",
      " [0.065  0.0144 0.0303 0.0314 0.1106 0.0151 0.0146 0.0449 0.0537 0.0017\n",
      "  0.0046 0.0349 0.0229 0.0498 0.0606 0.0183 0.0005 0.0553 0.057  0.0753\n",
      "  0.0251 0.0088 0.0149 0.0024 0.018  0.0006 0.1692]]\n",
      "\n",
      "Matrix aij:\n",
      "\n",
      "[[0.3333 0.3333 0.3333]\n",
      " [0.3333 0.3333 0.3333]\n",
      " [0.3333 0.3333 0.3333]]\n",
      "\n",
      "New forward probability:  0.01667255936978779\n",
      "Difference in forward probability:  0.005375067341187444\n",
      "\n",
      "Iteration No:  10\n",
      "[0.0656533  0.01445203 0.03168166 0.03140707 0.11065753 0.01544806\n",
      " 0.01458822 0.04488236 0.05562349 0.00178058 0.00506633 0.03603454\n",
      " 0.02428943 0.05166739 0.0615311  0.01836035 0.00072216 0.0555435\n",
      " 0.05849295 0.07528267 0.02514157 0.00878263 0.01510837 0.00253836\n",
      " 0.01804987 0.00064785 0.17124753]\n",
      "\n",
      "Sorted Array in ascending order is:\n",
      "\n",
      "[0.00064785 0.00072216 0.00178058 0.00253836 0.00506633 0.00878263\n",
      " 0.01445203 0.01458822 0.01510837 0.01544806 0.01804987 0.01836035\n",
      " 0.02428943 0.02514157 0.03140707 0.03168166 0.03603454 0.04488236\n",
      " 0.05166739 0.0555435  0.05562349 0.05849295 0.0615311  0.0656533\n",
      " 0.07528267 0.11065753 0.17124753]\n"
     ]
    }
   ],
   "source": [
    "#performing iterations until convergence\n",
    "\n",
    "for iteration in range(10):\n",
    "\n",
    "  # print('\\nIteration No: ', iteration + 1)\n",
    "  # print('\\nTransition:\\n ', transition)\n",
    "  # print('\\nEmission: \\n', emission)\n",
    "\n",
    "  #Calling probability functions to calculate all probabilities\n",
    "  fwd_probs, fwd_val = forward_probs()\n",
    "  bwd_probs, bwd_val = backward_probs()\n",
    "  si_probabilities = si_probs(fwd_probs, bwd_probs, fwd_val)\n",
    "  gamma_probabilities = gamma_probs(fwd_probs, bwd_probs, fwd_val)\n",
    "\n",
    "  \n",
    "  # caclculating 'a' and 'b' matrices\n",
    "  a = np.zeros((len(states), len(states)))\n",
    "  # a = np.zeros((ne, ne))\n",
    "  b = np.zeros((len(states), len(sequence_syms)))\n",
    "  # b = np.zeros((ne, me))\n",
    "\n",
    "  #'a' matrix\n",
    "  for j in range(len(states)):\n",
    "    for i in range(len(states)):\n",
    "      for t in range(len(test_sequence)-1):\n",
    "        a[j,i] = a[j, i] + si_probabilities[j, t, i]\n",
    "\n",
    "      denomenator_a = [si_probabilities[j, t_x, i_x] for t_x in range(len(test_sequence) - 1) for i_x in range(len(states))]\n",
    "      denomenator_a = sum(denomenator_a)\n",
    "\n",
    "      if (denomenator_a == 0):\n",
    "        a[j, i] = 0\n",
    "      else:\n",
    "        a[j, i] = a[j, i]/denomenator_a\n",
    "\n",
    "  #'b' matrix\n",
    "  for j in range(len(states)): #states\n",
    "    for i in range(len(sequence)): #seq\n",
    "      indices = [idx for idx, val in enumerate(test_sequence) if val == sequence[i]]\n",
    "      numerator_b = sum( gamma_probabilities[j, indices] )\n",
    "      denomenator_b = sum( gamma_probabilities[j,:] )\n",
    "\n",
    "      if (denomenator_b == 0):\n",
    "        b[j, i] = 0\n",
    "      else:\n",
    "        b[j, i] = numerator_b / denomenator_b\n",
    "\n",
    "\n",
    "print('\\nMatrix bjk:\\n')\n",
    "print(np.matrix(b.round(decimals=4)))\n",
    "  # maximums = [[0 for x in range(len(b[0]))] for x in range(len(b))]\n",
    "  \n",
    "  #print(np.matrix(b))\n",
    "transition = a\n",
    "emission = b\n",
    "\n",
    "print('\\nMatrix aij:\\n')\n",
    "print(np.matrix(a.round(decimals=4)))\n",
    "# print(np.matrix(a))\n",
    "\n",
    "new_fwd_temp, new_fwd_temp_val = forward_probs()\n",
    "print('\\nNew forward probability: ', new_fwd_temp_val)\n",
    "diff =  np.abs(fwd_val - new_fwd_temp_val)\n",
    "print('Difference in forward probability: ', diff)\n",
    "print('\\nIteration No: ', iteration + 1)\n",
    "result = (b.max(axis=0))\n",
    "print(result)\n",
    "\n",
    "print(\"\\nSorted Array in ascending order is:\\n\")\n",
    "print(np.sort(result))\n",
    "  #if (diff < 0.0000001):\n",
    "      #break\n",
    "\n",
    "c = 1\n",
    "\n"
   ]
  },
  {
   "cell_type": "code",
   "execution_count": 21,
   "metadata": {
    "colab": {
     "base_uri": "https://localhost:8080/"
    },
    "executionInfo": {
     "elapsed": 266,
     "status": "ok",
     "timestamp": 1652328504181,
     "user": {
      "displayName": "Emmanuel Masa-Ibi",
      "userId": "16867924233760379801"
     },
     "user_tz": 240
    },
    "id": "vIrvOeSl7rkJ",
    "outputId": "9b961534-6394-4e7f-a2a9-3fdb1ea37341"
   },
   "outputs": [
    {
     "name": "stdout",
     "output_type": "stream",
     "text": [
      "[0.00064785 0.00072216 0.00178058 0.00253836 0.00506633 0.00878263\n",
      " 0.01445203 0.01458822 0.01510837 0.01544806 0.01804987 0.01836035\n",
      " 0.02428943 0.02514157 0.03140707 0.03168166 0.03603454 0.04488236\n",
      " 0.05166739 0.0555435  0.05562349 0.05849295 0.0615311  0.0656533\n",
      " 0.07528267 0.11065753 0.17124753]\n"
     ]
    }
   ],
   "source": [
    "print(np.sort(result))\n",
    "\n",
    "#wt = 1/new_fwd_temp_val\n",
    "#print('\\nScaling value: ', wt)\n",
    "#plt(result)"
   ]
  },
  {
   "cell_type": "code",
   "execution_count": 260,
   "metadata": {},
   "outputs": [
    {
     "name": "stdout",
     "output_type": "stream",
     "text": [
      "\n",
      "Scaling value:  1196.431480316341\n",
      "\n",
      "alpha_value  1196.4314803163534\n"
     ]
    },
    {
     "data": {
      "text/plain": [
       "1196.4314803163413"
      ]
     },
     "execution_count": 260,
     "metadata": {},
     "output_type": "execute_result"
    }
   ],
   "source": [
    "wt = 1/fwd_val\n",
    "print('\\nScaling value: ', wt)\n",
    "\n",
    "alpha = wt * aij[0]\n",
    "alp_val = sum(alpha)\n",
    "print('\\nalpha_value ', alp_val)\n",
    "\n",
    "beta = wt * bjk[1]\n",
    "bet_val = sum(beta)\n",
    "bet_val"
   ]
  },
  {
   "cell_type": "code",
   "execution_count": null,
   "metadata": {},
   "outputs": [],
   "source": []
  }
 ],
 "metadata": {
  "colab": {
   "collapsed_sections": [],
   "provenance": [
    {
     "file_id": "1yuEAlz7rvd2UO8iu5bcbb_HGLIOTlIb2",
     "timestamp": 1650756238685
    }
   ]
  },
  "kernelspec": {
   "display_name": "Python 3 (ipykernel)",
   "language": "python",
   "name": "python3"
  },
  "language_info": {
   "codemirror_mode": {
    "name": "ipython",
    "version": 3
   },
   "file_extension": ".py",
   "mimetype": "text/x-python",
   "name": "python",
   "nbconvert_exporter": "python",
   "pygments_lexer": "ipython3",
   "version": "3.9.7"
  }
 },
 "nbformat": 4,
 "nbformat_minor": 1
}
