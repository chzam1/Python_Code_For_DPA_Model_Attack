{
 "cells": [
  {
   "cell_type": "code",
   "execution_count": 43,
   "id": "dea4f4f1",
   "metadata": {},
   "outputs": [],
   "source": [
    "import os\n",
    "import numpy as np"
   ]
  },
  {
   "cell_type": "code",
   "execution_count": 44,
   "id": "3b4d8b19",
   "metadata": {},
   "outputs": [],
   "source": [
    "File_data = np.loadtxt(r'C:\\Users\\Zamani\\cipher_text.txt', dtype=str)\n",
    "#print(File_data)\n",
    "np.shape(File_data)\n",
    "\n",
    "#File_data[:,0]\n",
    "pt = File_data[:,0]\n",
    "ct = File_data[:,1]"
   ]
  },
  {
   "cell_type": "code",
   "execution_count": 45,
   "id": "d791f0a3",
   "metadata": {},
   "outputs": [
    {
     "name": "stdout",
     "output_type": "stream",
     "text": [
      "['CE58D62DC430CD2E' 'C430CD2E9CE468CD' '9CE468CD31DB78AB' ...\n",
      " '4D54996A174E7A23' '174E7A2380EFFAEC' '80EFFAECCBC48EF7']\n"
     ]
    },
    {
     "data": {
      "text/plain": [
       "(1000, 16)"
      ]
     },
     "execution_count": 45,
     "metadata": {},
     "output_type": "execute_result"
    }
   ],
   "source": [
    "result_data = np.loadtxt(r'C:\\Users\\Zamani\\result.txt', dtype=str)\n",
    "print(result_data)\n",
    "np.shape(result_data)\n",
    "y=np.reshape(result_data,[1000,16])\n",
    "np.shape(y)\n",
    "#y\n"
   ]
  },
  {
   "cell_type": "code",
   "execution_count": 46,
   "id": "0a04b0ce",
   "metadata": {},
   "outputs": [],
   "source": [
    "ct = File_data[:,1]"
   ]
  },
  {
   "cell_type": "code",
   "execution_count": 47,
   "id": "ee2507f4",
   "metadata": {},
   "outputs": [],
   "source": [
    "#ct"
   ]
  },
  {
   "cell_type": "code",
   "execution_count": 48,
   "id": "f6f5cb8a",
   "metadata": {
    "scrolled": true
   },
   "outputs": [
    {
     "data": {
      "text/plain": [
       "('3948636A67F3A4CC', '39')"
      ]
     },
     "execution_count": 48,
     "metadata": {},
     "output_type": "execute_result"
    }
   ],
   "source": [
    "ct[0],ct[0][0:2]"
   ]
  },
  {
   "cell_type": "code",
   "execution_count": 49,
   "id": "4272c69f",
   "metadata": {},
   "outputs": [
    {
     "data": {
      "text/plain": [
       "['39', '48', '63', '6A', '67', 'F3', 'A4', 'CC']"
      ]
     },
     "execution_count": 49,
     "metadata": {},
     "output_type": "execute_result"
    }
   ],
   "source": [
    "n = 2\n",
    "T = [ct[0][idx:idx + n] for idx in range(0,15,n)]\n",
    "T"
   ]
  },
  {
   "cell_type": "code",
   "execution_count": 50,
   "id": "92f1525e",
   "metadata": {},
   "outputs": [],
   "source": [
    "n = 2\n",
    "\n",
    "my_List = np.empty((1000,8),dtype=int)\n",
    "for i in range(0,1000):\n",
    "        x = 0\n",
    "        for idx in range(0,15,n):\n",
    "            my_List[i,x] = int(ct[i][idx:idx+n],16)\n",
    "            x = x+1"
   ]
  },
  {
   "cell_type": "code",
   "execution_count": 51,
   "id": "806a6248",
   "metadata": {},
   "outputs": [
    {
     "data": {
      "text/plain": [
       "array([[ 57,  72,  99, ..., 243, 164, 204],\n",
       "       [182, 134, 165, ..., 154, 180,  42],\n",
       "       [229,  47, 135, ..., 109,   4,  41],\n",
       "       ...,\n",
       "       [125, 134,  15, ...,   5,  45, 234],\n",
       "       [102,  50,  42, ...,   4, 248, 225],\n",
       "       [146, 158,  59, ...,  23, 183, 255]])"
      ]
     },
     "execution_count": 51,
     "metadata": {},
     "output_type": "execute_result"
    }
   ],
   "source": [
    "my_List"
   ]
  },
  {
   "cell_type": "code",
   "execution_count": 52,
   "id": "a594d033",
   "metadata": {},
   "outputs": [
    {
     "data": {
      "text/plain": [
       "(1000, 8)"
      ]
     },
     "execution_count": 52,
     "metadata": {},
     "output_type": "execute_result"
    }
   ],
   "source": [
    "my_List.shape"
   ]
  },
  {
   "cell_type": "code",
   "execution_count": 53,
   "id": "78d5ba77",
   "metadata": {},
   "outputs": [
    {
     "data": {
      "text/plain": [
       "(array([ 57,  72,  99, 106, 103, 243, 164, 204]), 57, 204)"
      ]
     },
     "execution_count": 53,
     "metadata": {},
     "output_type": "execute_result"
    }
   ],
   "source": [
    "my_List[0],my_List[0][0],my_List[0][7]"
   ]
  },
  {
   "cell_type": "code",
   "execution_count": 54,
   "id": "cf22fc66",
   "metadata": {},
   "outputs": [
    {
     "data": {
      "text/plain": [
       "(103,)"
      ]
     },
     "execution_count": 54,
     "metadata": {},
     "output_type": "execute_result"
    }
   ],
   "source": [
    "my_List[0][4],"
   ]
  },
  {
   "cell_type": "code",
   "execution_count": 55,
   "id": "f249557a",
   "metadata": {},
   "outputs": [
    {
     "data": {
      "text/plain": [
       "(57, '0b111001', 114, '0b1110010')"
      ]
     },
     "execution_count": 55,
     "metadata": {},
     "output_type": "execute_result"
    }
   ],
   "source": [
    "(my_List[0][0]),bin((my_List[0][0])),(my_List[0][0]<<1),bin(my_List[0][0]<<1)"
   ]
  },
  {
   "cell_type": "code",
   "execution_count": 56,
   "id": "f401aeb8",
   "metadata": {},
   "outputs": [
    {
     "data": {
      "text/plain": [
       "114"
      ]
     },
     "execution_count": 56,
     "metadata": {},
     "output_type": "execute_result"
    }
   ],
   "source": [
    "t = my_List[0][0]<<1\n",
    "t"
   ]
  },
  {
   "cell_type": "code",
   "execution_count": 57,
   "id": "91721f50",
   "metadata": {},
   "outputs": [
    {
     "data": {
      "text/plain": [
       "14"
      ]
     },
     "execution_count": 57,
     "metadata": {},
     "output_type": "execute_result"
    }
   ],
   "source": [
    "t = t>>3\n",
    "t"
   ]
  },
  {
   "cell_type": "code",
   "execution_count": 58,
   "id": "e7f574ae",
   "metadata": {},
   "outputs": [],
   "source": [
    "R0 = (my_List[0][4]>>7)&1\n",
    "R1 = my_List[0][0]<<1\n",
    "R1 = R1 >> 3"
   ]
  },
  {
   "cell_type": "code",
   "execution_count": 59,
   "id": "07bfe60a",
   "metadata": {},
   "outputs": [
    {
     "data": {
      "text/plain": [
       "14"
      ]
     },
     "execution_count": 59,
     "metadata": {},
     "output_type": "execute_result"
    }
   ],
   "source": [
    "R = R0 + R1\n",
    "R"
   ]
  },
  {
   "cell_type": "code",
   "execution_count": 67,
   "id": "fc5478fd",
   "metadata": {},
   "outputs": [],
   "source": [
    "def model(ct):\n",
    "    S1 = np.array([14, 4, 13, 1, 2, 15, 11, 8, 3, 10, 6, 12, 5, 9, 0, 7,\n",
    "                        0, 15, 7, 4, 14, 2, 13, 1, 10, 6, 12, 11, 9, 5, 3, 8,\n",
    "                        4, 1, 14, 8, 13, 6, 2, 11, 15, 12, 9, 7, 3, 10, 5, 0,\n",
    "                        15, 12, 8, 2, 4, 9, 1, 7, 5, 11, 3, 14, 10, 0, 6, 13],dtype=\"uint8\")\n",
    "    SboxOut = np.empty((ct.shape[0],65),dtype=\"uint8\")\n",
    "    print(SboxOut.shape)\n",
    "    for i in range(1000):\n",
    "        for guess in range(64):\n",
    "            R0 = (my_List[i][4]>>7)&1\n",
    "            R1 = my_List[i][0]<<1\n",
    "            R1 = R1 >> 3\n",
    "            R = (R0 + R1)%(0x3f)\n",
    "            SboxOut[i,guess] = S1[R^guess]\n",
    "            S2 = [R^guess]\n",
    "            print(SboxOut[i,guess],i,guess)\n",
    "    return SboxOut\n",
    "        "
   ]
  },
  {
   "cell_type": "code",
   "execution_count": 68,
   "id": "2aef2fed",
   "metadata": {},
   "outputs": [
    {
     "name": "stdout",
     "output_type": "stream",
     "text": [
      "43\n"
     ]
    }
   ],
   "source": [
    "R0 = (my_List[206][4]>>7)&1\n",
    "R1 = my_List[206][0]<<1\n",
    "R1 = R1 >> 3\n",
    "R = R0 + R1\n",
    "print(R)"
   ]
  },
  {
   "cell_type": "code",
   "execution_count": 69,
   "id": "312188c4",
   "metadata": {},
   "outputs": [],
   "source": [
    "#Sb = model(my_List)"
   ]
  },
  {
   "cell_type": "code",
   "execution_count": 71,
   "id": "2c12edc5",
   "metadata": {},
   "outputs": [
    {
     "ename": "ValueError",
     "evalue": "The truth value of an array with more than one element is ambiguous. Use a.any() or a.all()",
     "output_type": "error",
     "traceback": [
      "\u001b[1;31m---------------------------------------------------------------------------\u001b[0m",
      "\u001b[1;31mValueError\u001b[0m                                Traceback (most recent call last)",
      "\u001b[1;32m~\\AppData\\Local\\Temp/ipykernel_23428/249883945.py\u001b[0m in \u001b[0;36m<module>\u001b[1;34m\u001b[0m\n\u001b[1;32m----> 1\u001b[1;33m \u001b[1;32mif\u001b[0m \u001b[0mSb\u001b[0m \u001b[1;33m&\u001b[0m \u001b[1;36m0x01\u001b[0m\u001b[1;33m:\u001b[0m\u001b[1;33m\u001b[0m\u001b[1;33m\u001b[0m\u001b[0m\n\u001b[0m\u001b[0;32m      2\u001b[0m     \u001b[0mone_list\u001b[0m\u001b[1;33m.\u001b[0m\u001b[0mappend\u001b[0m\u001b[1;33m(\u001b[0m\u001b[0mtrace_array\u001b[0m\u001b[1;33m[\u001b[0m\u001b[0mtrace_index\u001b[0m\u001b[1;33m]\u001b[0m\u001b[1;33m)\u001b[0m\u001b[1;33m\u001b[0m\u001b[1;33m\u001b[0m\u001b[0m\n\u001b[0;32m      3\u001b[0m \u001b[1;32melse\u001b[0m\u001b[1;33m:\u001b[0m\u001b[1;33m\u001b[0m\u001b[1;33m\u001b[0m\u001b[0m\n\u001b[0;32m      4\u001b[0m     \u001b[0mzero_list\u001b[0m\u001b[1;33m.\u001b[0m\u001b[0mappend\u001b[0m\u001b[1;33m(\u001b[0m\u001b[0mi\u001b[0m\u001b[1;33m[\u001b[0m\u001b[0mtrace_index\u001b[0m\u001b[1;33m]\u001b[0m\u001b[1;33m)\u001b[0m\u001b[1;33m\u001b[0m\u001b[1;33m\u001b[0m\u001b[0m\n\u001b[0;32m      5\u001b[0m \u001b[1;33m\u001b[0m\u001b[0m\n",
      "\u001b[1;31mValueError\u001b[0m: The truth value of an array with more than one element is ambiguous. Use a.any() or a.all()"
     ]
    }
   ],
   "source": [
    "if Sb & 0x01:\n",
    "    one_list.append(trace_array[trace_index])\n",
    "else:\n",
    "    zero_list.append(i[trace_index])\n",
    "            \n",
    "    one_avg = np.asarray(one_list).mean(axis=0)\n",
    "    zero_avg = np.asarray(zero_list).mean(axis=0)\n",
    "    mean_diffs[guess] = np.max(abs(one_avg - zero_avg))\n",
    "    \n",
    "print(\"Guessing %02x: %f\"%(guess, mean_diffs[guess]))\n",
    "    "
   ]
  },
  {
   "cell_type": "code",
   "execution_count": null,
   "id": "48b2f17d",
   "metadata": {},
   "outputs": [],
   "source": []
  },
  {
   "cell_type": "code",
   "execution_count": null,
   "id": "981a9fee",
   "metadata": {},
   "outputs": [],
   "source": []
  }
 ],
 "metadata": {
  "kernelspec": {
   "display_name": "Python 3 (ipykernel)",
   "language": "python",
   "name": "python3"
  },
  "language_info": {
   "codemirror_mode": {
    "name": "ipython",
    "version": 3
   },
   "file_extension": ".py",
   "mimetype": "text/x-python",
   "name": "python",
   "nbconvert_exporter": "python",
   "pygments_lexer": "ipython3",
   "version": "3.9.7"
  }
 },
 "nbformat": 4,
 "nbformat_minor": 5
}
