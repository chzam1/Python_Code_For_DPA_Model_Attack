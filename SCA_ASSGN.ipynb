{
 "cells": [
  {
   "cell_type": "code",
   "execution_count": 1,
   "id": "174ffdf9",
   "metadata": {},
   "outputs": [],
   "source": [
    "import os\n",
    "import numpy as np"
   ]
  },
  {
   "cell_type": "code",
   "execution_count": 2,
   "id": "8c7c846e",
   "metadata": {},
   "outputs": [
    {
     "name": "stdout",
     "output_type": "stream",
     "text": [
      "['2F225DF88C90DD1D' '8C90DD1D2A185B63' '2A185B63350C9C81' ...\n",
      " '6CDA5DF65547C4D2' '5547C4D29A4C8371' '9A4C83716FDA5CE2']\n"
     ]
    },
    {
     "data": {
      "text/plain": [
       "(1000, 16)"
      ]
     },
     "execution_count": 2,
     "metadata": {},
     "output_type": "execute_result"
    }
   ],
   "source": [
    "result_data = np.loadtxt(r'C:\\Users\\Zamani\\result.txt', dtype=str)\n",
    "print(result_data)\n",
    "np.shape(result_data)\n",
    "y=np.reshape(result_data,[1000,16])\n",
    "np.shape(y)\n",
    "#y"
   ]
  },
  {
   "cell_type": "code",
   "execution_count": 3,
   "id": "81993a3a",
   "metadata": {},
   "outputs": [],
   "source": [
    "R0 = y[:,0]\n",
    "R1 = y[:,1]\n",
    "R2 = y[:,2]\n",
    "R3 = y[:,3]\n",
    "R4 = y[:,4]\n",
    "R5 = y[:,5]\n",
    "R6 = y[:,6]\n",
    "R7 = y[:,7]\n",
    "R8 = y[:,8]\n",
    "R9 = y[:,9]\n",
    "R10 = y[:,10]\n",
    "R11 = y[:,11]\n",
    "R12 = y[:,12]\n",
    "R13 = y[:,13]\n",
    "R14 = y[:,14]\n",
    "R15 = y[:,15]"
   ]
  },
  {
   "cell_type": "code",
   "execution_count": 4,
   "id": "67d27bfd",
   "metadata": {},
   "outputs": [
    {
     "data": {
      "text/plain": [
       "(1000, 15)"
      ]
     },
     "execution_count": 4,
     "metadata": {},
     "output_type": "execute_result"
    }
   ],
   "source": [
    "n = 2\n",
    "T = np.stack((R0,R1,R2,R3,R4,R5,R6,R7,R8,R9,R10,R12,R13,R14,R15),axis=1)\n",
    "np.shape(T)"
   ]
  },
  {
   "cell_type": "code",
   "execution_count": 5,
   "id": "b4a8b151",
   "metadata": {},
   "outputs": [
    {
     "data": {
      "text/plain": [
       "'2F225DF88C90DD1D'"
      ]
     },
     "execution_count": 5,
     "metadata": {},
     "output_type": "execute_result"
    }
   ],
   "source": [
    "T[0][0]"
   ]
  },
  {
   "cell_type": "code",
   "execution_count": 6,
   "id": "e1a0b125",
   "metadata": {},
   "outputs": [
    {
     "data": {
      "text/plain": [
       "['8C', '90', 'DD', '1D', '2A', '18', '5B', '63']"
      ]
     },
     "execution_count": 6,
     "metadata": {},
     "output_type": "execute_result"
    }
   ],
   "source": [
    "\n",
    "my_list = [T[0][1][idx:idx + n] for idx in range(0,15,n)]\n",
    "my_list\n"
   ]
  },
  {
   "cell_type": "code",
   "execution_count": 22,
   "id": "5f83cd22",
   "metadata": {},
   "outputs": [],
   "source": [
    "my_List = np.empty((1000,15,8),dtype=int)\n",
    "for i in range(0,1000):\n",
    "    for j in range(0,15):\n",
    "#         print(j)\n",
    "        x = 0\n",
    "        for idx in range(0,15,n):\n",
    "#             print(idx)\n",
    "            my_List[i,j,x] = int(T[i][j][idx:idx+n],16)\n",
    "            x = x+1\n",
    "    "
   ]
  },
  {
   "cell_type": "code",
   "execution_count": 23,
   "id": "202f4f4d",
   "metadata": {},
   "outputs": [
    {
     "data": {
      "text/plain": [
       "(1000, 15, 8)"
      ]
     },
     "execution_count": 23,
     "metadata": {},
     "output_type": "execute_result"
    }
   ],
   "source": [
    "my_List.shape"
   ]
  },
  {
   "cell_type": "code",
   "execution_count": 25,
   "id": "4f35ad22",
   "metadata": {},
   "outputs": [
    {
     "data": {
      "text/plain": [
       "array([ 47,  34,  93, 248, 140, 144, 221,  29, 140, 144, 221,  29,  42,\n",
       "        24,  91,  99,  42,  24,  91,  99,  53,  12, 156, 129,  53,  12,\n",
       "       156, 129,  72, 243, 113, 192,  72, 243, 113, 192,  33, 129, 158,\n",
       "        56,  33, 129, 158,  56,  14, 198, 231,  73,  14, 198, 231,  73,\n",
       "       245,  81,  29, 180, 245,  81,  29, 180, 110,  26,  46,  45, 110,\n",
       "        26,  46,  45, 150, 250,  89,  28, 150, 250,  89,  28, 159, 126,\n",
       "       165,   5, 159, 126, 165,   5,  24, 120, 103, 211,  39, 131,  51,\n",
       "       220, 217, 186, 231, 252, 217, 186, 231, 252, 187, 123,   3,  59,\n",
       "       187, 123,   3,  59, 136,  23,  49, 217, 136,  23,  49, 217, 185,\n",
       "       243, 232, 181])"
      ]
     },
     "execution_count": 25,
     "metadata": {},
     "output_type": "execute_result"
    }
   ],
   "source": [
    "my_List = my_List.reshape((1000,15*8))\n",
    "my_List[0]"
   ]
  },
  {
   "cell_type": "code",
   "execution_count": 26,
   "id": "e21b176c",
   "metadata": {},
   "outputs": [
    {
     "data": {
      "text/plain": [
       "(1000, 120)"
      ]
     },
     "execution_count": 26,
     "metadata": {},
     "output_type": "execute_result"
    }
   ],
   "source": [
    "my_List.shape"
   ]
  },
  {
   "cell_type": "code",
   "execution_count": 27,
   "id": "950b83e2",
   "metadata": {},
   "outputs": [],
   "source": [
    " HW = np.array([0, 1, 1, 2, 1, 2, 2, 3, 1, 2, 2, 3, 2, 3, 3, 4, 1, 2, 2, 3,\n",
    "                   2, 3, 3, 4, 2, 3, 3, 4, 3, 4, 4, 5, 1, 2, 2, 3, 2, 3, 3, 4,\n",
    "                   2, 3, 3, 4, 3, 4, 4, 5, 2, 3, 3, 4, 3, 4, 4, 5, 3, 4, 4, 5,\n",
    "                   4, 5, 5, 6, 1, 2, 2, 3, 2, 3, 3, 4, 2, 3, 3, 4, 3, 4, 4, 5,\n",
    "                   2, 3, 3, 4, 3, 4, 4, 5, 3, 4, 4, 5, 4, 5, 5, 6, 2, 3, 3, 4,\n",
    "                   3, 4, 4, 5, 3, 4, 4, 5, 4, 5, 5, 6, 3, 4, 4, 5, 4, 5, 5, 6,\n",
    "                   4, 5, 5, 6, 5, 6, 6, 7, 1, 2, 2, 3, 2, 3, 3, 4, 2, 3, 3, 4,\n",
    "                   3, 4, 4, 5, 2, 3, 3, 4, 3, 4, 4, 5, 3, 4, 4, 5, 4, 5, 5, 6,\n",
    "                   2, 3, 3, 4, 3, 4, 4, 5, 3, 4, 4, 5, 4, 5, 5, 6, 3, 4, 4, 5,\n",
    "                   4, 5, 5, 6, 4, 5, 5, 6, 5, 6, 6, 7, 2, 3, 3, 4, 3, 4, 4, 5,\n",
    "                   3, 4, 4, 5, 4, 5, 5, 6, 3, 4, 4, 5, 4, 5, 5, 6, 4, 5, 5, 6,\n",
    "                   5, 6, 6, 7, 3, 4, 4, 5, 4, 5, 5, 6, 4, 5, 5, 6, 5, 6, 6, 7,\n",
    "                   4, 5, 5, 6, 5, 6, 6, 7, 5, 6, 6, 7, 6, 7, 7, 8],\n",
    "                  dtype=np.uint8)"
   ]
  },
  {
   "cell_type": "code",
   "execution_count": 12,
   "id": "3c9522e3",
   "metadata": {},
   "outputs": [],
   "source": [
    "import matplotlib.pyplot as plt"
   ]
  },
  {
   "cell_type": "code",
   "execution_count": 28,
   "id": "b519f7b7",
   "metadata": {
    "scrolled": true
   },
   "outputs": [
    {
     "data": {
      "text/plain": [
       "[<matplotlib.lines.Line2D at 0x214868b2070>]"
      ]
     },
     "execution_count": 28,
     "metadata": {},
     "output_type": "execute_result"
    },
    {
     "data": {
      "image/png": "[encoded data removed]",
      "text/plain": [
       "<Figure size 432x288 with 1 Axes>"
      ]
     },
     "metadata": {
      "needs_background": "light"
     },
     "output_type": "display_data"
    }
   ],
   "source": [
    "plt.plot(np.mean(my_List,axis=0))"
   ]
  },
  {
   "cell_type": "code",
   "execution_count": 29,
   "id": "9af2c607",
   "metadata": {
    "scrolled": false
   },
   "outputs": [
    {
     "data": {
      "text/plain": [
       "(1000, 120)"
      ]
     },
     "execution_count": 29,
     "metadata": {},
     "output_type": "execute_result"
    }
   ],
   "source": [
    "my_List.shape"
   ]
  },
  {
   "cell_type": "code",
   "execution_count": 35,
   "id": "694a53f7",
   "metadata": {},
   "outputs": [
    {
     "data": {
      "text/plain": [
       "array([5, 2, 5, 5, 3, 2, 6, 4, 3, 2, 6, 4, 3, 2, 5, 4, 3, 2, 5, 4, 4, 2,\n",
       "       4, 2, 4, 2, 4, 2, 2, 6, 4, 2, 2, 6, 4, 2, 2, 2, 5, 3, 2, 2, 5, 3,\n",
       "       3, 4, 6, 3, 3, 4, 6, 3, 6, 3, 4, 4, 6, 3, 4, 4, 5, 3, 4, 4, 5, 3,\n",
       "       4, 4, 4, 6, 4, 3, 4, 6, 4, 3, 6, 6, 4, 2, 6, 6, 4, 2, 2, 4, 5, 5,\n",
       "       4, 3, 4, 5, 5, 5, 6, 6, 5, 5, 6, 6, 6, 6, 2, 5, 6, 6, 2, 5, 2, 4,\n",
       "       3, 5, 2, 4, 3, 5, 5, 6, 4, 5], dtype=uint8)"
      ]
     },
     "execution_count": 35,
     "metadata": {},
     "output_type": "execute_result"
    }
   ],
   "source": [
    "H = HW[my_List[0]]\n",
    "H"
   ]
  },
  {
   "cell_type": "code",
   "execution_count": 37,
   "id": "98dca40d",
   "metadata": {},
   "outputs": [],
   "source": [
    "hypo = np.empty((1000,120),dtype=\"uint8\")\n",
    "for i in range(1000):\n",
    "    for j in range(120):\n",
    "        hypo[i,j] = HW[my_List[i][j]]\n"
   ]
  },
  {
   "cell_type": "code",
   "execution_count": 38,
   "id": "efbf693a",
   "metadata": {},
   "outputs": [
    {
     "data": {
      "text/plain": [
       "array([[5, 2, 5, ..., 6, 4, 5],\n",
       "       [3, 3, 4, ..., 7, 3, 5],\n",
       "       [4, 2, 2, ..., 5, 1, 5],\n",
       "       ...,\n",
       "       [7, 5, 2, ..., 4, 6, 2],\n",
       "       [3, 3, 3, ..., 5, 4, 4],\n",
       "       [4, 4, 3, ..., 5, 4, 4]], dtype=uint8)"
      ]
     },
     "execution_count": 38,
     "metadata": {},
     "output_type": "execute_result"
    }
   ],
   "source": [
    "hypo"
   ]
  },
  {
   "cell_type": "code",
   "execution_count": 40,
   "id": "c2ad8aeb",
   "metadata": {},
   "outputs": [],
   "source": [
    "target_noise_db = 0\n",
    "target_noise_watts = 10**(target_noise_db/64)\n",
    "noise_mean = 0\n",
    "noise_power = np.random.normal(noise_mean,np.sqrt(target_noise_watts),hypo.shape)\n",
    "powertrace = hypo + noise_power"
   ]
  },
  {
   "cell_type": "code",
   "execution_count": 41,
   "id": "733cd1de",
   "metadata": {},
   "outputs": [
    {
     "data": {
      "text/plain": [
       "array([[8.27513237, 1.51240741, 5.51901764, ..., 5.98387854, 5.05528143,\n",
       "        3.48348688],\n",
       "       [1.2208228 , 3.31374485, 4.09803656, ..., 6.02548613, 2.69483242,\n",
       "        3.9368142 ],\n",
       "       [4.76490631, 0.26510265, 0.91898289, ..., 5.17467495, 0.41862371,\n",
       "        5.07871108],\n",
       "       ...,\n",
       "       [5.49895888, 7.85418415, 2.96875921, ..., 5.25151006, 5.10418113,\n",
       "        2.74822266],\n",
       "       [2.36183532, 2.60764555, 1.70050523, ..., 6.07008649, 2.83599683,\n",
       "        2.25697489],\n",
       "       [4.75765686, 3.12529401, 5.78089708, ..., 4.49825604, 5.03239071,\n",
       "        4.01045461]])"
      ]
     },
     "execution_count": 41,
     "metadata": {},
     "output_type": "execute_result"
    }
   ],
   "source": [
    "powertrace"
   ]
  },
  {
   "cell_type": "code",
   "execution_count": 42,
   "id": "73a2610d",
   "metadata": {},
   "outputs": [],
   "source": [
    "np.save(\"powertraces\",powertrace)"
   ]
  },
  {
   "cell_type": "code",
   "execution_count": null,
   "id": "557ad8cd",
   "metadata": {},
   "outputs": [],
   "source": []
  }
 ],
 "metadata": {
  "kernelspec": {
   "display_name": "Python 3 (ipykernel)",
   "language": "python",
   "name": "python3"
  },
  "language_info": {
   "codemirror_mode": {
    "name": "ipython",
    "version": 3
   },
   "file_extension": ".py",
   "mimetype": "text/x-python",
   "name": "python",
   "nbconvert_exporter": "python",
   "pygments_lexer": "ipython3",
   "version": "3.9.7"
  }
 },
 "nbformat": 4,
 "nbformat_minor": 5
}
